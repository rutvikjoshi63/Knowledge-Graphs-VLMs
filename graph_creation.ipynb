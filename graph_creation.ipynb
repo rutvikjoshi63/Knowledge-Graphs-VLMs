{
 "cells": [
  {
   "cell_type": "code",
   "execution_count": 1,
   "id": "3b220eef",
   "metadata": {},
   "outputs": [
    {
     "name": "stdout",
     "output_type": "stream",
     "text": [
      "Collecting neo4j\n",
      "  Downloading neo4j-5.28.1-py3-none-any.whl.metadata (5.9 kB)\n",
      "Requirement already satisfied: pytz in /home/rutvik/miniconda3/envs/airlab/lib/python3.9/site-packages (from neo4j) (2025.2)\n",
      "Downloading neo4j-5.28.1-py3-none-any.whl (312 kB)\n",
      "Installing collected packages: neo4j\n",
      "Successfully installed neo4j-5.28.1\n"
     ]
    }
   ],
   "source": [
    "!pip install neo4j"
   ]
  },
  {
   "cell_type": "code",
   "execution_count": 2,
   "id": "3296eb96",
   "metadata": {},
   "outputs": [],
   "source": [
    "from neo4j import GraphDatabase\n",
    "\n",
    "class Neo4JConnection:\n",
    "    def __init__(self, uri, user, password):\n",
    "        \"\"\"Initialize the Neo4j connection with URI, username, and password.\"\"\"\n",
    "        self.driver = GraphDatabase.driver(uri, auth=(user, password))\n",
    "\n",
    "    def close(self):\n",
    "        \"\"\"Close the Neo4j connection.\"\"\"\n",
    "        if self.driver:\n",
    "            self.driver.close()\n",
    "\n",
    "    def execute_query(self, query, parameters=None):\n",
    "        \"\"\"Execute a Cypher query and return the result.\"\"\"\n",
    "        with self.driver.session() as session:\n",
    "            result = session.run(query, parameters)\n",
    "            return result.data()\n",
    "# Dino v2 or grounded Dino\n",
    "# Check with department"
   ]
  },
  {
   "cell_type": "code",
   "execution_count": 3,
   "id": "f7988b40",
   "metadata": {},
   "outputs": [],
   "source": [
    "# Function for deleting all nodes\n",
    "def delete_all_nodes(connection):\n",
    "    query = \"\"\"\n",
    "    MATCH (n)\n",
    "    DETACH DELETE n;\n",
    "    \"\"\"\n",
    "    connection.execute_query(query)\n",
    "    print(\"All nodes deleted.\")\n",
    "# Function for returning people who mentored others\n",
    "def initialise_respiratory_distress(connection): # Both nodes and relationships\n",
    "    query = \"\"\"\n",
    "    CREATE\n",
    "    (tp:Symptom {name: \"Tripod position\", value: \"NA\"}),\n",
    "    (gasp:Symptom {name: \"Open mouth with intermittent gasping sounds\", value: \"NA\"}),\n",
    "    (abn_head:Symptom {name: \"Abnormal head or neck position\", value: \"NA\"}),\n",
    "    (rrate:Symptom {name: \"Respiratory Rate\", value: \"NA\"}), // could later be \"under_8\", \"between_8_28\", or \"above_28\"\n",
    "    (cyanosis:Symptom {name: \"Cyanosis visible on exposed skin\", value: \"NA\"}),\n",
    "    (unequal:Symptom {name: \"Unequal chest-wall movement\", value: \"NA\"}),\n",
    "    (arrhythmic:Symptom {name: \"Arrhythmic chest movement\", value: \"NA\"}),\n",
    "\n",
    "    (rrA:RRCase {name: \"RR Human case A\", value: \"NA\"}),\n",
    "    (rrB:RRCase {name: \"RR Human case B\", value: \"NA\"}),\n",
    "    (rrD:RRCase {name: \"RR Human case D\", value: \"NA\"}),\n",
    "\n",
    "    (hrd:Condition {name: \"Human Respiratory Distress\", value: \"NA\"}),\n",
    "\n",
    "    (rd:Diagnosis {name: \"Respiratory Distress\", value: \"NA\"}),\n",
    "    (mrd:Diagnosis {name: \"Manekin Respiratory Distress\", value: \"NA\"}),\n",
    "    \n",
    "    // Relationships\n",
    "    (tp)-[:INDICATES]->(rrA),\n",
    "    (gasp)-[:INDICATES]->(rrA),\n",
    "    (abn_head)-[:INDICATES]->(rrB),\n",
    "    (gasp)-[:INDICATES]->(rrB),\n",
    "    (rrate)-[:INDICATES]->(rrD),\n",
    "\n",
    "    (rrA)-[:LEADS_TO]->(hrd),\n",
    "    (rrB)-[:LEADS_TO]->(hrd),\n",
    "    (rrD)-[:LEADS_TO]->(hrd),\n",
    "    (cyanosis)-[:INDICATES]->(hrd),\n",
    "\n",
    "    (unequal)-[:INDICATES]->(mrd),\n",
    "    (arrhythmic)-[:INDICATES]->(mrd),\n",
    "    \n",
    "    (hrd)-[:CAUSES]->(rd),\n",
    "    (mrd)-[:CAUSES]->(rd);\n",
    "    \"\"\"\n",
    "    result = connection.execute_query(query)\n",
    "    for record in result:\n",
    "        print(record)\n",
    "\n",
    "# Function for adding a new relationship between Marie Curie and Albert Einstein\n",
    "def update_initial_rr_nodes(connection, data):\n",
    "    rrA_value = \"yes\" if data[\"Tripod position\"] == \"yes\" and data[\"Open mouth with intermittent gasping sounds\"] == \"yes\" else \"no\"\n",
    "    rrB_value = \"yes\" if data[\"Abnormal head or neck position\"] == \"yes\" and data[\"Open mouth with intermittent gasping sounds\"] == \"yes\" else \"no\"\n",
    "    rrD_value = \"yes\" if data[\"Respiratory Rate\"] != \"between_8_28\" else \"no\"\n",
    "    hrd_value = \"yes\" if rrA_value == \"yes\" or rrB_value == \"yes\" or rrD_value == \"yes\" or data[\"Cyanosis visible on exposed skin\"] == \"yes\" else \"no\"\n",
    "    mrd_value = \"yes\" if data[\"Unequal chest-wall movement\"] == \"yes\" or data[\"Arrhythmic chest movement\"] == \"yes\" else \"no\"\n",
    "    rd_value = \"yes\" if mrd_value == \"yes\" or hrd_value == \"yes\" else \"no\"\n",
    "    \n",
    "    queries = [\n",
    "        (\"Symptom\", \"Tripod position\", data[\"Tripod position\"]),\n",
    "        (\"Symptom\", \"Open mouth with intermittent gasping sounds\", data[\"Open mouth with intermittent gasping sounds\"]),\n",
    "        (\"Symptom\", \"Abnormal head or neck position\", data[\"Abnormal head or neck position\"]),\n",
    "        (\"Symptom\", \"Respiratory Rate\", data[\"Respiratory Rate\"]),\n",
    "        (\"Symptom\", \"Cyanosis visible on exposed skin\", data[\"Cyanosis visible on exposed skin\"]),\n",
    "        (\"Symptom\", \"Unequal chest-wall movement\", data[\"Unequal chest-wall movement\"]),\n",
    "        (\"Symptom\", \"Arrhythmic chest movement\", data[\"Arrhythmic chest movement\"]),\n",
    "        (\"RRCase\", \"RR Human case A\", rrA_value),\n",
    "        (\"RRCase\", \"RR Human case B\", rrB_value),\n",
    "        (\"RRCase\", \"RR Human case D\", rrD_value),\n",
    "        (\"Condition\", \"Human Respiratory Distress\", hrd_value),\n",
    "        (\"Diagnosis\", \"Manekin Respiratory Distress\", mrd_value),\n",
    "        (\"Diagnosis\", \"Respiratory Distress\", rd_value)\n",
    "    ]\n",
    "\n",
    "    with connection.driver.session() as session:\n",
    "        for label, name, value in queries:\n",
    "            cypher = f\"\"\"\n",
    "            MATCH (n:{label} {{name: $name}})\n",
    "            SET n.value = $value\n",
    "            \"\"\"\n",
    "            session.run(cypher, name=name, value=value)\n",
    "\n",
    "    print(\"✅ All symptom and reasoning nodes updated successfully.\")\n",
    "# Function to create nodes and relationships as per Query 1\n",
    "def create_nodes_and_relationships(connection):\n",
    "    query = \"\"\"\n",
    "    CREATE (einstein:Person {name: \"Albert Einstein\", birthYear: 1879, famousFor: \"Physics\"}),\n",
    "           (bohr:Person {name: \"Niels Bohr\", birthYear: 1885, famousFor: \"QuantumMechanics\"}),\n",
    "           (heisenberg:Person {name: \"Werner Heisenberg\", birthYear: 1901}),\n",
    "           (shchrodinger:Person {name: \"Erwin Schrodinger\", birthYear: 1887}),\n",
    "           (curie:Person {name: \"Marie Curie\", birthYear: 1867, famousFor: \"Radiation\"}),\n",
    "           \n",
    "           (einstein)-[:COLLABORATED_WITH {domain:\"QuantumMechanics\"}]-> (bohr),\n",
    "           (bohr)-[:MENTORED]-> (heisenberg),\n",
    "           (heisenberg)-[:COLLABORATED_WITH]-> (shchrodinger),\n",
    "           (shchrodinger)-[:AWARDED_LIKE]-> (curie);\n",
    "    \"\"\"\n",
    "    connection.execute_query(query)\n",
    "    print(\"Nodes and relationships created.\")"
   ]
  },
  {
   "cell_type": "code",
   "execution_count": 4,
   "id": "fd217e10",
   "metadata": {},
   "outputs": [],
   "source": [
    "def initialise_trauma_logic(connection):\n",
    "    query = \"\"\"\n",
    "    CREATE\n",
    "    // Symptom nodes\n",
    "    (occluded:Symptom {name: \"Body region occluded\", value: \"NA\"}),\n",
    "    (inaccessible:Symptom {name: \"Otherwise inaccessible\", value: \"NA\"}),\n",
    "    (verbal_amputation:Symptom {name: \"Verbal confirmation of amputation\", value: \"NA\"}),\n",
    "    (removal:Symptom {name: \"Removal of body part\", value: \"NA\"}),\n",
    "    (blood:Symptom {name: \"Visible blood around injury\", value: \"NA\"}),\n",
    "    (damaged_clothing:Symptom {name: \"Damaged clothing\", value: \"NA\"}),\n",
    "    (verbal_wound:Symptom {name: \"Verbal confirmation of wound\", value: \"NA\"}),\n",
    "    (is_head:Symptom {name: \"Is head?\", value: \"NA\"}),\n",
    "    (is_torso:Symptom {name: \"Is torso?\", value: \"NA\"}),\n",
    "    (is_extremity:Symptom {name: \"Is extremity?\", value: \"NA\"}),\n",
    "    (movement:Symptom {name: \"Movement indicating injury\", value: \"NA\"}),\n",
    "    (inability:Symptom {name: \"Inability to move\", value: \"NA\"}),\n",
    "    (deformity:Symptom {name: \"Visible deformity of limbs\", value: \"NA\"}),\n",
    "    (burn:Symptom {name: \"Burn\", value: \"NA\"}),\n",
    "    (abrasion:Symptom {name: \"Abrasion\", value: \"NA\"}),\n",
    "    (hemorrhage:Symptom {name: \"Hemorrhage\", value: \"NA\"}),\n",
    "\n",
    "    // Reasoning nodes (intermediate logic)\n",
    "    (not_testable:RRCase {name: \"Trauma not testable\", value: \"NA\"}),\n",
    "    (amputation_caseA:RRCase {name: \"Trauma amputation case A\", value: \"NA\"}),\n",
    "    (wound_caseA:RRCase {name: \"Trauma wound case A\", value: \"NA\"}),\n",
    "    (wound_caseB:RRCase {name: \"Trauma wound case B\", value: \"NA\"}),\n",
    "    (wound_caseC:RRCase {name: \"Trauma wound case C\", value: \"NA\"}),\n",
    "    (visible_wound:RRCase {name: \"Visible wound\", value: \"NA\"}),\n",
    "\n",
    "    // Diagnostic/Condition nodes\n",
    "    (trauma_amputation:Condition {name: \"Trauma amputation\", value: \"NA\"}),\n",
    "    (trauma_wound:Condition {name: \"Trauma wound\", value: \"NA\"}),\n",
    "    (trauma_normal:Condition {name: \"Trauma normal\", value: \"NA\"}),\n",
    "\n",
    "    // Relationships\n",
    "    (occluded)-[:INDICATES]->(not_testable),\n",
    "    (inaccessible)-[:INDICATES]->(not_testable),\n",
    "\n",
    "    (verbal_amputation)-[:INDICATES]->(trauma_amputation),\n",
    "    (removal)-[:INDICATES]->(amputation_caseA),\n",
    "    (blood)-[:INDICATES]->(amputation_caseA),\n",
    "    (amputation_caseA)-[:LEADS_TO]->(trauma_amputation),\n",
    "    (not_testable)-[:LEADS_TO]->(trauma_amputation),\n",
    "\n",
    "    (blood)-[:INDICATES]->(wound_caseA),\n",
    "    (damaged_clothing)-[:INDICATES]->(wound_caseA),\n",
    "    (verbal_wound)-[:INDICATES]->(trauma_wound),\n",
    "    (wound_caseA)-[:LEADS_TO]->(trauma_wound),\n",
    "\n",
    "    (is_head)-[:INDICATES]->(wound_caseB),\n",
    "    (is_torso)-[:INDICATES]->(wound_caseB),\n",
    "    (is_extremity)-[:INDICATES]->(wound_caseB),\n",
    "    (movement)-[:INDICATES]->(wound_caseB),\n",
    "    (inability)-[:INDICATES]->(wound_caseB),\n",
    "    (deformity)-[:INDICATES]->(wound_caseB),\n",
    "    (wound_caseB)-[:LEADS_TO]->(trauma_wound),\n",
    "\n",
    "    (visible_wound)-[:LEADS_TO]->(wound_caseC),\n",
    "    (abrasion)-[:INDICATES]->(visible_wound),\n",
    "    (burn)-[:INDICATES]->(visible_wound),\n",
    "    (hemorrhage)-[:INDICATES]->(visible_wound),\n",
    "    (wound_caseC)-[:LEADS_TO]->(trauma_wound),\n",
    "\n",
    "    (trauma_wound)-[:CAUSES]->(trauma_normal);\n",
    "    \"\"\"\n",
    "\n",
    "    result = connection.execute_query(query)\n",
    "    print(\"✅ Trauma symptom and reasoning graph initialized.\")\n"
   ]
  },
  {
   "cell_type": "code",
   "execution_count": 5,
   "id": "3531628e",
   "metadata": {},
   "outputs": [],
   "source": [
    "data_rr = {\n",
    "    \"Tripod position\": \"yes\",\n",
    "    \"Open mouth with intermittent gasping sounds\": \"yes\",\n",
    "    \"Abnormal head or neck position\": \"no\",\n",
    "    \"Respiratory Rate\": \"above_28\",\n",
    "    \"Cyanosis visible on exposed skin\": \"no\",\n",
    "    \"Unequal chest-wall movement\": \"yes\",\n",
    "    \"Arrhythmic chest movement\": \"no\"\n",
    "}"
   ]
  },
  {
   "cell_type": "code",
   "execution_count": 6,
   "id": "b0e2f4a0",
   "metadata": {},
   "outputs": [],
   "source": [
    "\n",
    "uri = \"bolt://localhost:7687\"  # Default Bolt URI for local Neo4j\n",
    "user = \"neo4j\"              # Default username\n",
    "password = \"ARzY@RM$7GpCt@9\"\n",
    "\n",
    "# Initialize Neo4j connection\n",
    "neo4j_conn = Neo4JConnection(uri, user, password)\n"
   ]
  },
  {
   "cell_type": "code",
   "execution_count": 7,
   "id": "c5fdc45a",
   "metadata": {},
   "outputs": [
    {
     "name": "stdout",
     "output_type": "stream",
     "text": [
      "All nodes deleted.\n"
     ]
    }
   ],
   "source": [
    "delete_all_nodes(neo4j_conn)"
   ]
  },
  {
   "cell_type": "code",
   "execution_count": 8,
   "id": "6f1adb1b",
   "metadata": {},
   "outputs": [],
   "source": [
    "initialise_respiratory_distress(neo4j_conn)"
   ]
  },
  {
   "cell_type": "code",
   "execution_count": 9,
   "id": "f1befe72",
   "metadata": {},
   "outputs": [
    {
     "name": "stdout",
     "output_type": "stream",
     "text": [
      "✅ All symptom and reasoning nodes updated successfully.\n"
     ]
    }
   ],
   "source": [
    "update_initial_rr_nodes(neo4j_conn, data_rr)"
   ]
  },
  {
   "cell_type": "code",
   "execution_count": 10,
   "id": "baa42eaa",
   "metadata": {},
   "outputs": [
    {
     "name": "stdout",
     "output_type": "stream",
     "text": [
      "✅ Trauma symptom and reasoning graph initialized.\n"
     ]
    }
   ],
   "source": [
    "initialise_trauma_logic(neo4j_conn)"
   ]
  },
  {
   "cell_type": "code",
   "execution_count": 18,
   "id": "f08f22ac",
   "metadata": {},
   "outputs": [],
   "source": [
    "neo4j_conn.close()\n"
   ]
  },
  {
   "cell_type": "code",
   "execution_count": null,
   "id": "5773c115",
   "metadata": {},
   "outputs": [],
   "source": []
  }
 ],
 "metadata": {
  "kernelspec": {
   "display_name": "airlab",
   "language": "python",
   "name": "python3"
  },
  "language_info": {
   "codemirror_mode": {
    "name": "ipython",
    "version": 3
   },
   "file_extension": ".py",
   "mimetype": "text/x-python",
   "name": "python",
   "nbconvert_exporter": "python",
   "pygments_lexer": "ipython3",
   "version": "3.9.21"
  }
 },
 "nbformat": 4,
 "nbformat_minor": 5
}
